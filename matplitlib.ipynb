{
 "cells": [
  {
   "cell_type": "markdown",
   "id": "1a00a975-505b-40e3-8e18-a79f680630c5",
   "metadata": {},
   "source": [
    "Load the dataset into a Pandas DataFrame and explore the data."
   ]
  },
  {
   "cell_type": "code",
   "execution_count": 1,
   "id": "fae1371e-eba7-4dea-b204-b9257760a0e2",
   "metadata": {
    "tags": []
   },
   "outputs": [
    {
     "name": "stdout",
     "output_type": "stream",
     "text": [
      "      Month Revenue  Orders  Average_Order_Value\n",
      "0  Jan-2020  10,000     200                   50\n",
      "1  Feb-2020  11,000     220                   50\n",
      "2  Mar-2020  12,000     240                   50\n",
      "3  Apr-2020  13,000     260                   50\n",
      "4  May-2020  14,000     280                   50\n",
      "<class 'pandas.core.frame.DataFrame'>\n",
      "RangeIndex: 24 entries, 0 to 23\n",
      "Data columns (total 4 columns):\n",
      " #   Column               Non-Null Count  Dtype \n",
      "---  ------               --------------  ----- \n",
      " 0   Month                24 non-null     object\n",
      " 1   Revenue              24 non-null     object\n",
      " 2   Orders               24 non-null     int64 \n",
      " 3   Average_Order_Value  24 non-null     int64 \n",
      "dtypes: int64(2), object(2)\n",
      "memory usage: 900.0+ bytes\n",
      "None\n",
      "           Orders  Average_Order_Value\n",
      "count   24.000000                 24.0\n",
      "mean   430.000000                 50.0\n",
      "std    141.421356                  0.0\n",
      "min    200.000000                 50.0\n",
      "25%    315.000000                 50.0\n",
      "50%    430.000000                 50.0\n",
      "75%    545.000000                 50.0\n",
      "max    660.000000                 50.0\n"
     ]
    }
   ],
   "source": [
    "import pandas as pd\n",
    "\n",
    "# load the dataset into a pandas dataframe\n",
    "\n",
    "path=r'C:\\Users\\user\\Documents\\AFRICA DATA SCHOOL\\jumta.csv'\n",
    "df = pd.read_csv(path)\n",
    "\n",
    "\n",
    "# explore the data\n",
    "print(df.head()) # display the first 5 rows of the dataframe\n",
    "print(df.info()) # display the information about the dataframe (column names, data types, non-null values, etc.)\n",
    "print(df.describe()) # display the summary statistics of the numerical columns in the dataframe\n"
   ]
  },
  {
   "cell_type": "markdown",
   "id": "d9fbb310-3eb3-4cb5-8b6a-1ad0cbb66758",
   "metadata": {},
   "source": [
    "Create a line plot showing the monthly revenue over the two-year period. Customize the plot to make it publication-quality."
   ]
  },
  {
   "cell_type": "code",
   "execution_count": 2,
   "id": "58da0d82-210b-4645-8805-8eee34250242",
   "metadata": {
    "tags": []
   },
   "outputs": [
    {
     "ename": "KeyError",
     "evalue": "'date'",
     "output_type": "error",
     "traceback": [
      "\u001b[1;31m---------------------------------------------------------------------------\u001b[0m",
      "\u001b[1;31mKeyError\u001b[0m                                  Traceback (most recent call last)",
      "File \u001b[1;32m~\\AppData\\Local\\Programs\\Python\\Python311\\Lib\\site-packages\\pandas\\core\\indexes\\base.py:3652\u001b[0m, in \u001b[0;36mIndex.get_loc\u001b[1;34m(self, key)\u001b[0m\n\u001b[0;32m   3651\u001b[0m \u001b[38;5;28;01mtry\u001b[39;00m:\n\u001b[1;32m-> 3652\u001b[0m     \u001b[38;5;28;01mreturn\u001b[39;00m \u001b[38;5;28;43mself\u001b[39;49m\u001b[38;5;241;43m.\u001b[39;49m\u001b[43m_engine\u001b[49m\u001b[38;5;241;43m.\u001b[39;49m\u001b[43mget_loc\u001b[49m\u001b[43m(\u001b[49m\u001b[43mcasted_key\u001b[49m\u001b[43m)\u001b[49m\n\u001b[0;32m   3653\u001b[0m \u001b[38;5;28;01mexcept\u001b[39;00m \u001b[38;5;167;01mKeyError\u001b[39;00m \u001b[38;5;28;01mas\u001b[39;00m err:\n",
      "File \u001b[1;32m~\\AppData\\Local\\Programs\\Python\\Python311\\Lib\\site-packages\\pandas\\_libs\\index.pyx:147\u001b[0m, in \u001b[0;36mpandas._libs.index.IndexEngine.get_loc\u001b[1;34m()\u001b[0m\n",
      "File \u001b[1;32m~\\AppData\\Local\\Programs\\Python\\Python311\\Lib\\site-packages\\pandas\\_libs\\index.pyx:176\u001b[0m, in \u001b[0;36mpandas._libs.index.IndexEngine.get_loc\u001b[1;34m()\u001b[0m\n",
      "File \u001b[1;32mpandas\\_libs\\hashtable_class_helper.pxi:7080\u001b[0m, in \u001b[0;36mpandas._libs.hashtable.PyObjectHashTable.get_item\u001b[1;34m()\u001b[0m\n",
      "File \u001b[1;32mpandas\\_libs\\hashtable_class_helper.pxi:7088\u001b[0m, in \u001b[0;36mpandas._libs.hashtable.PyObjectHashTable.get_item\u001b[1;34m()\u001b[0m\n",
      "\u001b[1;31mKeyError\u001b[0m: 'date'",
      "\nThe above exception was the direct cause of the following exception:\n",
      "\u001b[1;31mKeyError\u001b[0m                                  Traceback (most recent call last)",
      "Cell \u001b[1;32mIn[2], line 10\u001b[0m\n\u001b[0;32m      7\u001b[0m df \u001b[38;5;241m=\u001b[39m pd\u001b[38;5;241m.\u001b[39mread_csv(path)\n\u001b[0;32m      9\u001b[0m \u001b[38;5;66;03m# convert the date column to a datetime object\u001b[39;00m\n\u001b[1;32m---> 10\u001b[0m df[\u001b[38;5;124m'\u001b[39m\u001b[38;5;124mdate\u001b[39m\u001b[38;5;124m'\u001b[39m] \u001b[38;5;241m=\u001b[39m pd\u001b[38;5;241m.\u001b[39mto_datetime(\u001b[43mdf\u001b[49m\u001b[43m[\u001b[49m\u001b[38;5;124;43m'\u001b[39;49m\u001b[38;5;124;43mdate\u001b[39;49m\u001b[38;5;124;43m'\u001b[39;49m\u001b[43m]\u001b[49m)\n\u001b[0;32m     12\u001b[0m \u001b[38;5;66;03m# extract the month and year from the date column\u001b[39;00m\n\u001b[0;32m     13\u001b[0m df[\u001b[38;5;124m'\u001b[39m\u001b[38;5;124mmonth\u001b[39m\u001b[38;5;124m'\u001b[39m] \u001b[38;5;241m=\u001b[39m df[\u001b[38;5;124m'\u001b[39m\u001b[38;5;124mdate\u001b[39m\u001b[38;5;124m'\u001b[39m]\u001b[38;5;241m.\u001b[39mdt\u001b[38;5;241m.\u001b[39mmonth\n",
      "File \u001b[1;32m~\\AppData\\Local\\Programs\\Python\\Python311\\Lib\\site-packages\\pandas\\core\\frame.py:3761\u001b[0m, in \u001b[0;36mDataFrame.__getitem__\u001b[1;34m(self, key)\u001b[0m\n\u001b[0;32m   3759\u001b[0m \u001b[38;5;28;01mif\u001b[39;00m \u001b[38;5;28mself\u001b[39m\u001b[38;5;241m.\u001b[39mcolumns\u001b[38;5;241m.\u001b[39mnlevels \u001b[38;5;241m>\u001b[39m \u001b[38;5;241m1\u001b[39m:\n\u001b[0;32m   3760\u001b[0m     \u001b[38;5;28;01mreturn\u001b[39;00m \u001b[38;5;28mself\u001b[39m\u001b[38;5;241m.\u001b[39m_getitem_multilevel(key)\n\u001b[1;32m-> 3761\u001b[0m indexer \u001b[38;5;241m=\u001b[39m \u001b[38;5;28;43mself\u001b[39;49m\u001b[38;5;241;43m.\u001b[39;49m\u001b[43mcolumns\u001b[49m\u001b[38;5;241;43m.\u001b[39;49m\u001b[43mget_loc\u001b[49m\u001b[43m(\u001b[49m\u001b[43mkey\u001b[49m\u001b[43m)\u001b[49m\n\u001b[0;32m   3762\u001b[0m \u001b[38;5;28;01mif\u001b[39;00m is_integer(indexer):\n\u001b[0;32m   3763\u001b[0m     indexer \u001b[38;5;241m=\u001b[39m [indexer]\n",
      "File \u001b[1;32m~\\AppData\\Local\\Programs\\Python\\Python311\\Lib\\site-packages\\pandas\\core\\indexes\\base.py:3654\u001b[0m, in \u001b[0;36mIndex.get_loc\u001b[1;34m(self, key)\u001b[0m\n\u001b[0;32m   3652\u001b[0m     \u001b[38;5;28;01mreturn\u001b[39;00m \u001b[38;5;28mself\u001b[39m\u001b[38;5;241m.\u001b[39m_engine\u001b[38;5;241m.\u001b[39mget_loc(casted_key)\n\u001b[0;32m   3653\u001b[0m \u001b[38;5;28;01mexcept\u001b[39;00m \u001b[38;5;167;01mKeyError\u001b[39;00m \u001b[38;5;28;01mas\u001b[39;00m err:\n\u001b[1;32m-> 3654\u001b[0m     \u001b[38;5;28;01mraise\u001b[39;00m \u001b[38;5;167;01mKeyError\u001b[39;00m(key) \u001b[38;5;28;01mfrom\u001b[39;00m \u001b[38;5;21;01merr\u001b[39;00m\n\u001b[0;32m   3655\u001b[0m \u001b[38;5;28;01mexcept\u001b[39;00m \u001b[38;5;167;01mTypeError\u001b[39;00m:\n\u001b[0;32m   3656\u001b[0m     \u001b[38;5;66;03m# If we have a listlike key, _check_indexing_error will raise\u001b[39;00m\n\u001b[0;32m   3657\u001b[0m     \u001b[38;5;66;03m#  InvalidIndexError. Otherwise we fall through and re-raise\u001b[39;00m\n\u001b[0;32m   3658\u001b[0m     \u001b[38;5;66;03m#  the TypeError.\u001b[39;00m\n\u001b[0;32m   3659\u001b[0m     \u001b[38;5;28mself\u001b[39m\u001b[38;5;241m.\u001b[39m_check_indexing_error(key)\n",
      "\u001b[1;31mKeyError\u001b[0m: 'date'"
     ]
    }
   ],
   "source": [
    "import pandas as pd\n",
    "import matplotlib.pyplot as plt\n",
    "\n",
    "# load the dataset into a pandas dataframe\n",
    "##df = pd.read_csv('path/to/your/dataset.csv')\n",
    "path=r'C:\\Users\\user\\Documents\\AFRICA DATA SCHOOL\\jumta.csv'\n",
    "df = pd.read_csv(path)\n",
    "\n",
    "# convert the date column to a datetime object\n",
    "df['date'] = pd.to_datetime(df['date'])\n",
    "\n",
    "# extract the month and year from the date column\n",
    "df['month'] = df['date'].dt.month\n",
    "df['year'] = df['date'].dt.year\n",
    "\n",
    "# group the data by month and year, and calculate the total revenue for each group\n",
    "monthly_revenue = df.groupby(['year', 'month'])['revenue'].sum()\n",
    "\n",
    "# convert the data to a pandas dataframe\n",
    "monthly_revenue = monthly_revenue.reset_index()\n",
    "monthly_revenue['date'] = pd.to_datetime(monthly_revenue[['year', 'month']].assign(day=1))\n",
    "monthly_revenue = monthly_revenue[['date', 'revenue']]\n",
    "\n",
    "# create the plot\n",
    "fig, ax = plt.subplots(figsize=(8, 6))\n",
    "ax.plot(monthly_revenue['date'], monthly_revenue['revenue'], color='blue', linewidth=2)\n",
    "\n",
    "# set the axis labels and title\n",
    "ax.set_xlabel('Date', fontsize=12)\n",
    "ax.set_ylabel('Monthly Revenue', fontsize=12)\n",
    "ax.set_title('Monthly Revenue over Two-Year Period', fontsize=14)\n",
    "\n",
    "# format the x-axis ticks\n",
    "ax.xaxis.set_major_locator(plt.MaxNLocator(24))\n",
    "ax.xaxis.set_major_formatter(plt.DateFormatter('%b %Y'))\n",
    "\n",
    "# add a grid and tighten the layout\n",
    "ax.grid(True)\n",
    "fig.tight_layout()\n",
    "\n",
    "# save the plot as a publication-quality PDF file\n",
    "plt.savefig('monthly_revenue.pdf', dpi=300, bbox_inches='tight')\n"
   ]
  },
  {
   "cell_type": "code",
   "execution_count": null,
   "id": "d7096d77-b184-47ee-a4d5-14f17434e229",
   "metadata": {},
   "outputs": [],
   "source": []
  }
 ],
 "metadata": {
  "kernelspec": {
   "display_name": "Python 3 (ipykernel)",
   "language": "python",
   "name": "python3"
  },
  "language_info": {
   "codemirror_mode": {
    "name": "ipython",
    "version": 3
   },
   "file_extension": ".py",
   "mimetype": "text/x-python",
   "name": "python",
   "nbconvert_exporter": "python",
   "pygments_lexer": "ipython3",
   "version": "3.11.3"
  }
 },
 "nbformat": 4,
 "nbformat_minor": 5
}
